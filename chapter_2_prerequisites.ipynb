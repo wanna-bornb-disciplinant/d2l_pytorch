{
 "cells": [
  {
   "cell_type": "markdown",
   "id": "93761f78",
   "metadata": {},
   "source": [
    "第二章的主要内容围绕一些简单的pytorch使用和基础数学知识展开，是后续学习的基础"
   ]
  },
  {
   "cell_type": "markdown",
   "id": "edbbc54f",
   "metadata": {},
   "source": []
  }
 ],
 "metadata": {
  "language_info": {
   "name": "python"
  }
 },
 "nbformat": 4,
 "nbformat_minor": 5
}
